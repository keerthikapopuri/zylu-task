{
 "cells": [
  {
   "cell_type": "code",
   "execution_count": null,
   "metadata": {},
   "outputs": [],
   "source": [
    "import pandas as pd\n",
    "from sklearn.model_selection import train_test_split\n",
    "from sklearn.preprocessing import StandardScaler\n",
    "\n",
    "# Load the dataset\n",
    "data = pd.read_csv('data/purchase_history.csv')\n",
    "\n",
    "# Data cleaning and preprocessing\n",
    "data = data.dropna()  # Example of handling missing values\n",
    "# Feature engineering\n",
    "data['total_spent'] = data['quantity'] * data['price']\n",
    "\n",
    "# Split the data\n",
    "X = data.drop(columns=['customer_return', 'product_repurchase'])\n",
    "y_return = data['customer_return']\n",
    "y_repurchase = data['product_repurchase']\n",
    "\n",
    "X_train, X_test, y_return_train, y_return_test = train_test_split(X, y_return, test_size=0.2, random_state=42)\n",
    "X_train, X_test, y_repurchase_train, y_repurchase_test = train_test_split(X, y_repurchase, test_size=0.2, random_state=42)\n",
    "\n",
    "# Feature scaling\n",
    "scaler = StandardScaler()\n",
    "X_train = scaler.fit_transform(X_train)\n",
    "X_test = scaler.transform(X_test)\n"
   ]
  },
  {
   "cell_type": "code",
   "execution_count": null,
   "metadata": {},
   "outputs": [],
   "source": [
    "from sklearn.ensemble import RandomForestClassifier\n",
    "from sklearn.metrics import accuracy_score\n",
    "import joblib\n",
    "# Train a model for customer return prediction\n",
    "model_return = RandomForestClassifier(random_state=42)\n",
    "model_return.fit(X_train, y_return_train)\n",
    "y_return_pred = model_return.predict(X_test)\n",
    "print('Customer Return Prediction Accuracy:', accuracy_score(y_return_test, y_return_pred))\n",
    "\n",
    "# Train a model for product repurchase prediction\n",
    "model_repurchase = RandomForestClassifier(random_state=42)\n",
    "model_repurchase.fit(X_train, y_repurchase_train)\n",
    "y_repurchase_pred = model_repurchase.predict(X_test)\n",
    "print('Product Repurchase Prediction Accuracy:', accuracy_score(y_repurchase_test, y_repurchase_pred))\n",
    "# Save the models\n",
    "joblib.dump(model_return, 'models/model_return.pkl')\n",
    "joblib.dump(model_repurchase, 'models/model_repurchase.pkl')\n",
    "joblib.dump(scaler, 'models/scaler.pkl')"
   ]
  }
 ],
 "metadata": {
  "language_info": {
   "name": "python"
  }
 },
 "nbformat": 4,
 "nbformat_minor": 2
}
